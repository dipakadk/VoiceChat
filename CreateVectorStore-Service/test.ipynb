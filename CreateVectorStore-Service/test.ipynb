{
 "cells": [
  {
   "cell_type": "code",
   "execution_count": 1,
   "metadata": {},
   "outputs": [],
   "source": [
    "import importlib\n",
    "from fastapi import FastAPI\n",
    "def get_routes_router():\n",
    "    routes_router:FastAPI = None\n",
    "    routes_router = importlib.import_module(\"routes.llm_routes\").ROU\n",
    "    return routes_router\n",
    "\n",
    "\n",
    "abc = get_routes_router()"
   ]
  },
  {
   "cell_type": "code",
   "execution_count": 2,
   "metadata": {},
   "outputs": [
    {
     "name": "stdout",
     "output_type": "stream",
     "text": [
      "========== sk-proj-mqzECEjPRtkI9cFfJbJFT3BlbkFJQDyqX4Iu2ynNA2ZQ6XWV heeelelelel gpt-4o\n"
     ]
    }
   ],
   "source": [
    "abc = get_routes_router()"
   ]
  },
  {
   "cell_type": "code",
   "execution_count": null,
   "metadata": {},
   "outputs": [],
   "source": []
  },
  {
   "cell_type": "code",
   "execution_count": null,
   "metadata": {},
   "outputs": [],
   "source": []
  }
 ],
 "metadata": {
  "kernelspec": {
   "display_name": "Python 3",
   "language": "python",
   "name": "python3"
  },
  "language_info": {
   "codemirror_mode": {
    "name": "ipython",
    "version": 3
   },
   "file_extension": ".py",
   "mimetype": "text/x-python",
   "name": "python",
   "nbconvert_exporter": "python",
   "pygments_lexer": "ipython3",
   "version": "3.11.0"
  }
 },
 "nbformat": 4,
 "nbformat_minor": 2
}
